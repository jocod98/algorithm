{
 "cells": [
  {
   "cell_type": "code",
   "execution_count": 26,
   "id": "1bafaf7f",
   "metadata": {},
   "outputs": [
    {
     "name": "stdout",
     "output_type": "stream",
     "text": [
      "3 4\n"
     ]
    }
   ],
   "source": [
    "n,m = map(int,input().split())\n"
   ]
  },
  {
   "cell_type": "code",
   "execution_count": 27,
   "id": "a25080d9",
   "metadata": {},
   "outputs": [
    {
     "name": "stdout",
     "output_type": "stream",
     "text": [
      "0000\n",
      "0010\n",
      "0000\n",
      "1001\n",
      "1011\n",
      "1001\n"
     ]
    }
   ],
   "source": [
    "mt1 = []\n",
    "mt2 = []\n",
    "\n",
    "for i in range(n):\n",
    "    mt1.append(list(input()))\n",
    "for i in range(n):\n",
    "    mt2.append(list(input()))"
   ]
  },
  {
   "cell_type": "code",
   "execution_count": 28,
   "id": "bc97e7eb",
   "metadata": {},
   "outputs": [],
   "source": [
    "count = 0\n",
    "flag = 0"
   ]
  },
  {
   "cell_type": "code",
   "execution_count": 31,
   "id": "3cea6a6d",
   "metadata": {},
   "outputs": [
    {
     "name": "stdout",
     "output_type": "stream",
     "text": [
      "2\n"
     ]
    }
   ],
   "source": [
    "for i in range(n-1):\n",
    "    for j in range(m-1):\n",
    "        mt1[j][i]=not(mt1[j][i])\n",
    "        mt1[j][i+1]=not(mt1[j][i+1])\n",
    "        mt1[j][i+2]=not(mt1[j][i+2])\n",
    "    count +=1\n",
    "    if mt1 == mt2 :\n",
    "        flag = 1\n",
    "        print(count)\n",
    "        break\n",
    "if flag == 0:\n",
    "    print(-1)"
   ]
  },
  {
   "cell_type": "code",
   "execution_count": 29,
   "id": "0a0584e5",
   "metadata": {},
   "outputs": [],
   "source": [
    "for i in range(n):\n",
    "    mt2[i] = list(map(int,mt2[i]))"
   ]
  },
  {
   "cell_type": "code",
   "execution_count": 30,
   "id": "d6d74293",
   "metadata": {},
   "outputs": [],
   "source": [
    "for i in range(n):\n",
    "    mt1[i] = list(map(int,mt1[i]))"
   ]
  },
  {
   "cell_type": "code",
   "execution_count": 23,
   "id": "b2943699",
   "metadata": {},
   "outputs": [
    {
     "data": {
      "text/plain": [
       "[[1, 0, 0, 1], [1, 0, 1, 1], [1, 0, 0, 1]]"
      ]
     },
     "execution_count": 23,
     "metadata": {},
     "output_type": "execute_result"
    }
   ],
   "source": [
    "mt2"
   ]
  },
  {
   "cell_type": "code",
   "execution_count": 24,
   "id": "7eef9a26",
   "metadata": {},
   "outputs": [
    {
     "data": {
      "text/plain": [
       "[[0, 0, 0, 0], [0, 0, 1, 0], [0, 0, 0, 0]]"
      ]
     },
     "execution_count": 24,
     "metadata": {},
     "output_type": "execute_result"
    }
   ],
   "source": [
    "mt1"
   ]
  },
  {
   "cell_type": "code",
   "execution_count": null,
   "id": "05cc6889",
   "metadata": {},
   "outputs": [],
   "source": []
  }
 ],
 "metadata": {
  "kernelspec": {
   "display_name": "Python 3",
   "language": "python",
   "name": "python3"
  },
  "language_info": {
   "codemirror_mode": {
    "name": "ipython",
    "version": 3
   },
   "file_extension": ".py",
   "mimetype": "text/x-python",
   "name": "python",
   "nbconvert_exporter": "python",
   "pygments_lexer": "ipython3",
   "version": "3.8.8"
  }
 },
 "nbformat": 4,
 "nbformat_minor": 5
}
